import pandas as pd

df = pd.read_csv('basket_analysis.csv',index_col=0)

print(df.head())


# Nettoyer les donnees

# Afficher les infos
print(df.info())


# Vérifier le nombre de valeurs manquantes par colonne
print(df.isnull().sum())



# Supprimer toutes les lignes avec valeurs manquantes
df_clean = df.dropna()

# Supprimer les doublons
df_clean = df_clean.drop_duplicates()
print(df_clean)


# Afficher à nouveau les infos pour vérifier le nettoyage
print(df_clean.info())


# Statistiques descriptives de toutes les colonnes numériques
print(df_clean.describe())


# Calcul du nombre d’achats pour chaque produit
achats_par_produit = df.sum().sort_values(ascending=False)
print(achats_par_produit)

import matplotlib.pyplot as plt
import seaborn as sns

# Barres : nombre d’achats par produit
plt.figure(figsize=(10,6))
achats_par_produit.plot(kind='bar', color='green')
plt.title('Nombre de transactions par produit')
plt.ylabel('Nombre d\'achat')
plt.xticks(rotation=45)
plt.tight_layout()
plt.show()


# Fréquence en pourcentage
frequence = df.mean().sort_values(ascending=False) * 100
print(frequence)

# Barres horizontales : fréquence des produits
plt.figure(figsize=(10,6))
frequence.plot(kind='barh', color='lightgreen')
plt.title('Fréquence d\'achat par produit (%)')
plt.xlabel('Pourcentage')
plt.tight_layout()
plt.show()



print("Nombre total de transactions :", len(df))
print("Nombre total de produits :", len(df.columns))




